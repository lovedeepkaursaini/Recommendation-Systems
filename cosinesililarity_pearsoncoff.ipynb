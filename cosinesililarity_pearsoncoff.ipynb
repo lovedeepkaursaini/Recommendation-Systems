{
 "cells": [
  {
   "cell_type": "markdown",
   "metadata": {},
   "source": [
    "# Similarity Metrics\n",
    "\n",
    "\n",
    "Let $D = {(x_1,y_1), (x_2,y_2)...(x_i,y_i)...(x_N,y_N)}$ be a dataset consisting of two variables (X, Y) and N rows. \n",
    "\n",
    "One way to examine the collective behavior of X and Y is to examine their similarity quantified with help of suitably defined metric. \n",
    "\n",
    "Among several such metrics, an interesting one is the **Cosine Similarity**, which tends to use angle of divergence between vectors $\\vec{X} = \\{x_1,x_2... x_i... x_N\\}$ and $\\vec{Y}=\\{y_1,y_2... y_i... y_N\\}$ as a measure of how similar they are.\n",
    "\n",
    "Mathematically, Cosine Similarity is defined as: \n",
    "\n",
    "\\begin{align} \n",
    "cosine (X, Y) &= \\frac{ \\sum_i x_i y_i }{ \n",
    "\\sqrt{\\sum_i x_i^2} \\sqrt{ \\sum_i y_i^2 } }\n",
    "\\end{align}\n",
    "\n",
    "- The cosine function attains maximum value of 1 for when angle between X and Y is 0 degree (Collinear vectors), and it is at minimum value of 0 when the angle is 90 degree (Orthogonal Vectors). The collinearity is interpretted as a high degree of similarity while orthogonality is interpretted as opposite.\n",
    "\n",
    "Another commonly used measure is **Pearson Correlation Coefficient**, which is defined as:\n",
    "\n",
    "\\begin{align} \n",
    "corr(X,Y) &= \\frac{ \\sum_i (x_i-\\bar{x}) (y_i-\\bar{y}) }{ \n",
    "\\sqrt{\\sum_i (x_i-\\bar{x})^2} \\sqrt{ \\sum_i (y_i-\\bar{y})^2 } } \n",
    "\\end{align}, where $\\bar{x}$ and $\\bar{y}$ is the mean for X and Y vectors.\n",
    "\n",
    "- Note that Pearson Coeffcient between X and Y can also be interpretted as Cosine similarity between vectors $(X-\\bar{X})$ and $(Y-\\bar{Y})$ of departures from mean. When both the departure vectors are collinear - a shift in X away from mean implies a similar shift in Y. Hence this metric has traditionally been used as a measure of correlation between the variables.\n",
    "\n",
    "Summarizing above discussion:\n",
    "\n",
    "1. Cosine Similarity and Pearson Correlation can be used to measure similarity of vectors.\n",
    "2. Pearson Correlation Coefficient is a \"centered\" cosine similarity between $X-\\bar{X}$ and $Y-\\bar{Y}$ vectors.\n",
    "\n",
    "Below we will show how to implement these measures by implementing the formulae shown above.\n"
   ]
  },
  {
   "cell_type": "markdown",
   "metadata": {},
   "source": [
    "### Simulate Data for Demonstration"
   ]
  },
  {
   "cell_type": "code",
   "execution_count": 1,
   "metadata": {
    "collapsed": true
   },
   "outputs": [],
   "source": [
    "import numpy as np\n",
    "import random\n",
    "\n",
    "#Define vector X\n",
    "x = [0.001*x for x in range(1,101)]\n",
    "\n",
    "#Define vector Y\n",
    "y = [xi+random.uniform(0.1,0.15) for xi in x]\n",
    "\n",
    "#Define vector Z\n",
    "z = [random.uniform(0,1) for xi in x]\n",
    "\n",
    "#convert to numpy arrays \n",
    "x = np.array(x)\n",
    "y = np.array(y)\n",
    "z = np.array(z)"
   ]
  },
  {
   "cell_type": "markdown",
   "metadata": {},
   "source": [
    "Above, we have defined y so that its strongly correlated with x. Lets begin by visualizing the dataset:"
   ]
  },
  {
   "cell_type": "code",
   "execution_count": 2,
   "metadata": {
    "scrolled": true
   },
   "outputs": [
    {
     "data": {
      "image/png": "[encoded data removed]",
      "text/plain": [
       "<matplotlib.figure.Figure at 0x7f74a31e3f28>"
      ]
     },
     "metadata": {},
     "output_type": "display_data"
    }
   ],
   "source": [
    "import matplotlib.pyplot as plt\n",
    "\n",
    "f, (ax1,ax2) = plt.subplots(1,2,figsize=(10,4))\n",
    "ax1.scatter(x,y,label='XY')\n",
    "ax2.scatter(x,z,label='XZ')\n",
    "ax1.set_title(\"Scatterplot of X vs Y\")\n",
    "ax2.set_title(\"Scatterplot of X vs Z\")\n",
    "for ax in [ax1, ax2]:\n",
    "    ax.set_xlabel('X')\n",
    "    ax.set_ylabel('Y')\n",
    "    ax.legend()\n",
    "\n",
    "plt.show()"
   ]
  },
  {
   "cell_type": "markdown",
   "metadata": {},
   "source": [
    "### Calculating  Correlation coefficient\n",
    "\n",
    "Below we define a function that takes two array like parameters x and y and returns Pearson correlation coeff."
   ]
  },
  {
   "cell_type": "code",
   "execution_count": 3,
   "metadata": {},
   "outputs": [
    {
     "name": "stdout",
     "output_type": "stream",
     "text": [
      "Pearson Correlation Coefficient (X,Y):  0.90143\n",
      "Pearson Correlation Coefficient (X,Z):  0.10841\n"
     ]
    }
   ],
   "source": [
    "import math\n",
    "def pearson_coff(x, y):\n",
    "    \"\"\"\n",
    "    X = 1d Array = [x1,x2,x3...]\n",
    "    Y = 1d Array = [y1,y2,y3...]\n",
    "    \"\"\"\n",
    "    mean_x = np.mean(x)\n",
    "    mean_y = np.mean(y)\n",
    "    dot = 0.0\n",
    "    norm1 = 0.0\n",
    "    norm2 = 0.0\n",
    "    for i in range(len(x)):\n",
    "        dot += (x[i]-mean_x)* (y[i]-mean_y)\n",
    "        norm1 += (x[i]-mean_x)**2\n",
    "        norm2 += (y[i]-mean_y)**2\n",
    "    return round(dot/(math.sqrt(norm1)*math.sqrt(norm2)),5)  \n",
    "\n",
    "\n",
    "print (\"Pearson Correlation Coefficient (X,Y): \",pearson_coff(x,y))\n",
    "print (\"Pearson Correlation Coefficient (X,Z): \",pearson_coff(x,z))"
   ]
  },
  {
   "cell_type": "markdown",
   "metadata": {},
   "source": [
    "### Calculating Cosine Similarity\n",
    "Below we define a function that takes two array like parameters x and y and returns Cosine Similarity."
   ]
  },
  {
   "cell_type": "code",
   "execution_count": 4,
   "metadata": {},
   "outputs": [
    {
     "name": "stdout",
     "output_type": "stream",
     "text": [
      "Cosine (X,Y):  0.936506825133\n",
      "Cosine (X,Z):  0.772590469145\n"
     ]
    }
   ],
   "source": [
    "def cos_sim(x, y):\n",
    "    \"\"\"\n",
    "    X = 1d Array = [x1,x2,x3...]\n",
    "    Y = 1d Array = [y1,y2,y3...]\n",
    "    \"\"\"    \n",
    "    dot = 0.0\n",
    "    norm1 = 0.0\n",
    "    norm2 = 0.0\n",
    "    for i in range(len(x)):\n",
    "        dot = dot + (x[i]*y[i])\n",
    "        norm1 = norm1 + (x[i]*x[i])\n",
    "        norm2 = norm2 + (y[i]*y[i])\n",
    "    return dot/(math.sqrt(norm1)*math.sqrt(norm2))  \n",
    "\n",
    "print (\"Cosine (X,Y): \",cos_sim(x,y))\n",
    "print (\"Cosine (X,Z): \",cos_sim(x,z))"
   ]
  },
  {
   "cell_type": "markdown",
   "metadata": {},
   "source": [
    "### Pearson Coefficient as Centralized Cosine\n",
    "\n",
    "If we normalize x and y vectors with their respective means and get the cosine similarity between resulting vectors, it will come same (computationally close) to the correlation coefficient."
   ]
  },
  {
   "cell_type": "code",
   "execution_count": 5,
   "metadata": {},
   "outputs": [
    {
     "name": "stdout",
     "output_type": "stream",
     "text": [
      "Cosine Similarity (X, Y) of distances from mean:  0.901431165029\n",
      "Cosine Similarity (X, Z) of distances from mean:  0.108411284771\n"
     ]
    }
   ],
   "source": [
    "norm_x = x - np.mean(x)\n",
    "norm_y = y - np.mean(y)\n",
    "norm_z = z - np.mean(z)\n",
    "print (\"Cosine Similarity (X, Y) of distances from mean: \" ,cos_sim(norm_x, norm_y))\n",
    "print (\"Cosine Similarity (X, Z) of distances from mean: \" ,cos_sim(norm_x, norm_z))"
   ]
  },
  {
   "cell_type": "markdown",
   "metadata": {},
   "source": [
    "### Pearson Correlation and Cosine Under Scaling and Shifting\n",
    "\n",
    "Pearson correlation and cosine similarity are **invariant to scaling**, i.e. multiplying all elements by a nonzero constant."
   ]
  },
  {
   "cell_type": "code",
   "execution_count": 6,
   "metadata": {},
   "outputs": [
    {
     "name": "stdout",
     "output_type": "stream",
     "text": [
      "Cosine Similarity  (X,Y) :  0.936506825133\n",
      "Cosine Similarity (5X,5Y):  0.936506825133\n",
      "\n",
      "Pearson Coefficient (X,Y) :  0.90143\n",
      "Pearson Coefficient (5X,5Y) :  0.90143\n"
     ]
    }
   ],
   "source": [
    "print(\"Cosine Similarity  (X,Y) : \",cos_sim(x,y))\n",
    "print(\"Cosine Similarity (5X,5Y): \" ,cos_sim(x*5,y*3))\n",
    "\n",
    "print(\"\\nPearson Coefficient (X,Y) : \",pearson_coff(x,y))\n",
    "print(\"Pearson Coefficient (5X,5Y) : \",pearson_coff(5*x,5*y))"
   ]
  },
  {
   "cell_type": "markdown",
   "metadata": {},
   "source": [
    "But **Pearson correlation is also invariant to adding any constant to all elements**, the reason being it's definition where the means are subtracted out from vectors."
   ]
  },
  {
   "cell_type": "code",
   "execution_count": 7,
   "metadata": {
    "scrolled": true
   },
   "outputs": [
    {
     "name": "stdout",
     "output_type": "stream",
     "text": [
      "Cosine Similarity  (X,Y) :  0.936506825133\n",
      "Cosine Similarity (5+X,5+Y):  0.999982336871\n",
      "\n",
      "Pearson Coefficient (X,Y) :  0.90143\n",
      "Pearson Coefficient (5+X,5+Y) :  0.90143\n"
     ]
    }
   ],
   "source": [
    "print(\"Cosine Similarity  (X,Y) : \",cos_sim(x,y))\n",
    "print(\"Cosine Similarity (5+X,5+Y): \" ,cos_sim(x+5,y+3))\n",
    "\n",
    "print(\"\\nPearson Coefficient (X,Y) : \",pearson_coff(x,y))\n",
    "print(\"Pearson Coefficient (5+X,5+Y) : \",pearson_coff(x+5,y+3))"
   ]
  },
  {
   "cell_type": "markdown",
   "metadata": {},
   "source": [
    "**Note that while Pearson Coefficient is invariant both under scaling and shifting, the Cosine is invariant under scaling only**. "
   ]
  },
  {
   "cell_type": "markdown",
   "metadata": {},
   "source": [
    "## Conclusions:\n",
    "\n",
    "Correlation is same as the cosine similarity between centered versions of X and Y, and is bounded between -1 and 1. \n",
    "\n",
    "Cosine similarity in not about vector angles only, but it is equivalent to correlation for the vectors of samples. \n",
    "\n",
    "Unlike the cosine similarity, the correlation coefficient is invariant to both scale and location changes of x and y. "
   ]
  }
 ],
 "metadata": {
  "kernelspec": {
   "display_name": "Python 3",
   "language": "python",
   "name": "python3"
  },
  "language_info": {
   "codemirror_mode": {
    "name": "ipython",
    "version": 3
   },
   "file_extension": ".py",
   "mimetype": "text/x-python",
   "name": "python",
   "nbconvert_exporter": "python",
   "pygments_lexer": "ipython3",
   "version": "3.6.3"
  }
 },
 "nbformat": 4,
 "nbformat_minor": 2
}
